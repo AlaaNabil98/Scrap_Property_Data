{
 "cells": [
  {
   "cell_type": "code",
   "execution_count": 9,
   "id": "e07210be",
   "metadata": {},
   "outputs": [],
   "source": [
    "import pandas as pd\n",
    "from selenium.webdriver.common.by import By\n",
    "from selenium.webdriver.support.ui import WebDriverWait\n",
    "from selenium.webdriver.support import expected_conditions as EC\n",
    "from setups import get_local_safe_setup\n",
    "import os\n",
    "import time\n",
    "\n",
    "driver = get_local_safe_setup()\n",
    "\n",
    "# Call url through selenium driver\n",
    "driver.get(\"https://www.daft.ie/property-for-sale/ireland\")\n",
    "\n",
    "#accept_button = driver.find_element_by_xpath(\"//button[contains(text(), 'Accept All Cookies')]\")\n",
    "accept_button = driver.find_element(By.XPATH, '//*[@id=\"js-cookie-modal-level-one\"]/div/main/div/button[2]')\n",
    "if accept_button.is_displayed():\n",
    "    accept_button.click()\n"
   ]
  },
  {
   "cell_type": "code",
   "execution_count": 10,
   "id": "d9bb00b5",
   "metadata": {},
   "outputs": [
    {
     "name": "stdout",
     "output_type": "stream",
     "text": [
      "20 Results in Page 1\n",
      "20 Results in Page 2\n",
      "20 Results in Page 3\n",
      "20 Results in Page 4\n",
      "20 Results in Page 5\n",
      "100 Properties\n"
     ]
    }
   ],
   "source": [
    "props = []\n",
    "\n",
    "for page in range(2):\n",
    "\n",
    "    results = driver.find_elements(By.CSS_SELECTOR, \".djuMQD\")\n",
    "\n",
    "    for result in results:\n",
    "        link = result.find_element(By.TAG_NAME, \"a\").get_attribute(\"href\")\n",
    "        \n",
    "        if link not in props:\n",
    "            props.append(link)\n",
    "\n",
    "    print(f\"{len(results)} Results in Page {page+1}\")\n",
    "    \n",
    "    next_but = driver.find_element(By.XPATH, '//*[@aria-label=\"Next >\"]')\n",
    "    next_but.click()\n",
    "    time.sleep(2)\n",
    "    \n",
    "print(f\"{len(props)} Properties\")\n"
   ]
  },
  {
   "cell_type": "code",
   "execution_count": 11,
   "id": "81fbad90",
   "metadata": {},
   "outputs": [],
   "source": [
    "locs =[]\n",
    "agents = []\n",
    "prop_types = []\n",
    "units = []\n",
    "\n",
    "for prop in props:\n",
    "    driver.get(prop)\n",
    "    \n",
    "    time.sleep(2)\n"
   ]
  },
  {
   "cell_type": "code",
   "execution_count": 30,
   "id": "006382cc",
   "metadata": {},
   "outputs": [
    {
     "ename": "StaleElementReferenceException",
     "evalue": "Message: stale element reference: element is not attached to the page document\n  (Session info: chrome=111.0.5563.111)\nStacktrace:\nBacktrace:\n\t(No symbol) [0x00C0DCE3]\n\t(No symbol) [0x00BA39D1]\n\t(No symbol) [0x00AB4DA8]\n\t(No symbol) [0x00AB76FB]\n\t(No symbol) [0x00AB75D0]\n\t(No symbol) [0x00AB7850]\n\t(No symbol) [0x00AE16CD]\n\t(No symbol) [0x00AD8B4D]\n\t(No symbol) [0x00AFAECC]\n\t(No symbol) [0x00AD8726]\n\t(No symbol) [0x00AFB224]\n\t(No symbol) [0x00B0D57C]\n\t(No symbol) [0x00AFACC6]\n\t(No symbol) [0x00AD6F68]\n\t(No symbol) [0x00AD80CD]\n\tGetHandleVerifier [0x00E83832+2506274]\n\tGetHandleVerifier [0x00EB9794+2727300]\n\tGetHandleVerifier [0x00EBE36C+2746716]\n\tGetHandleVerifier [0x00CB6690+617600]\n\t(No symbol) [0x00BAC712]\n\t(No symbol) [0x00BB1FF8]\n\t(No symbol) [0x00BB20DB]\n\t(No symbol) [0x00BBC63B]\n\tBaseThreadInitThunk [0x750600C9+25]\n\tRtlGetAppContainerNamedObjectPath [0x76FE7B4E+286]\n\tRtlGetAppContainerNamedObjectPath [0x76FE7B1E+238]\n",
     "output_type": "error",
     "traceback": [
      "\u001b[1;31m---------------------------------------------------------------------------\u001b[0m",
      "\u001b[1;31mStaleElementReferenceException\u001b[0m            Traceback (most recent call last)",
      "\u001b[1;32m~\\AppData\\Local\\Temp\\ipykernel_12968\\1109247736.py\u001b[0m in \u001b[0;36m<module>\u001b[1;34m\u001b[0m\n\u001b[0;32m      5\u001b[0m \u001b[1;33m\u001b[0m\u001b[0m\n\u001b[0;32m      6\u001b[0m \u001b[1;32mfor\u001b[0m \u001b[0mloc\u001b[0m\u001b[1;33m,\u001b[0m \u001b[0mlink\u001b[0m \u001b[1;32min\u001b[0m \u001b[0mlocations\u001b[0m\u001b[1;33m.\u001b[0m\u001b[0mitems\u001b[0m\u001b[1;33m(\u001b[0m\u001b[1;33m)\u001b[0m\u001b[1;33m:\u001b[0m\u001b[1;33m\u001b[0m\u001b[1;33m\u001b[0m\u001b[0m\n\u001b[1;32m----> 7\u001b[1;33m     \u001b[0mlink\u001b[0m\u001b[1;33m.\u001b[0m\u001b[0mclick\u001b[0m\u001b[1;33m(\u001b[0m\u001b[1;33m)\u001b[0m\u001b[1;33m\u001b[0m\u001b[1;33m\u001b[0m\u001b[0m\n\u001b[0m\u001b[0;32m      8\u001b[0m     \u001b[0mtime\u001b[0m\u001b[1;33m.\u001b[0m\u001b[0msleep\u001b[0m\u001b[1;33m(\u001b[0m\u001b[1;36m2\u001b[0m\u001b[1;33m)\u001b[0m\u001b[1;33m\u001b[0m\u001b[1;33m\u001b[0m\u001b[0m\n",
      "\u001b[1;32m~\\AppData\\Roaming\\Python\\Python39\\site-packages\\selenium\\webdriver\\remote\\webelement.py\u001b[0m in \u001b[0;36mclick\u001b[1;34m(self)\u001b[0m\n\u001b[0;32m     92\u001b[0m     \u001b[1;32mdef\u001b[0m \u001b[0mclick\u001b[0m\u001b[1;33m(\u001b[0m\u001b[0mself\u001b[0m\u001b[1;33m)\u001b[0m \u001b[1;33m->\u001b[0m \u001b[1;32mNone\u001b[0m\u001b[1;33m:\u001b[0m\u001b[1;33m\u001b[0m\u001b[1;33m\u001b[0m\u001b[0m\n\u001b[0;32m     93\u001b[0m         \u001b[1;34m\"\"\"Clicks the element.\"\"\"\u001b[0m\u001b[1;33m\u001b[0m\u001b[1;33m\u001b[0m\u001b[0m\n\u001b[1;32m---> 94\u001b[1;33m         \u001b[0mself\u001b[0m\u001b[1;33m.\u001b[0m\u001b[0m_execute\u001b[0m\u001b[1;33m(\u001b[0m\u001b[0mCommand\u001b[0m\u001b[1;33m.\u001b[0m\u001b[0mCLICK_ELEMENT\u001b[0m\u001b[1;33m)\u001b[0m\u001b[1;33m\u001b[0m\u001b[1;33m\u001b[0m\u001b[0m\n\u001b[0m\u001b[0;32m     95\u001b[0m \u001b[1;33m\u001b[0m\u001b[0m\n\u001b[0;32m     96\u001b[0m     \u001b[1;32mdef\u001b[0m \u001b[0msubmit\u001b[0m\u001b[1;33m(\u001b[0m\u001b[0mself\u001b[0m\u001b[1;33m)\u001b[0m\u001b[1;33m:\u001b[0m\u001b[1;33m\u001b[0m\u001b[1;33m\u001b[0m\u001b[0m\n",
      "\u001b[1;32m~\\AppData\\Roaming\\Python\\Python39\\site-packages\\selenium\\webdriver\\remote\\webelement.py\u001b[0m in \u001b[0;36m_execute\u001b[1;34m(self, command, params)\u001b[0m\n\u001b[0;32m    401\u001b[0m             \u001b[0mparams\u001b[0m \u001b[1;33m=\u001b[0m \u001b[1;33m{\u001b[0m\u001b[1;33m}\u001b[0m\u001b[1;33m\u001b[0m\u001b[1;33m\u001b[0m\u001b[0m\n\u001b[0;32m    402\u001b[0m         \u001b[0mparams\u001b[0m\u001b[1;33m[\u001b[0m\u001b[1;34m\"id\"\u001b[0m\u001b[1;33m]\u001b[0m \u001b[1;33m=\u001b[0m \u001b[0mself\u001b[0m\u001b[1;33m.\u001b[0m\u001b[0m_id\u001b[0m\u001b[1;33m\u001b[0m\u001b[1;33m\u001b[0m\u001b[0m\n\u001b[1;32m--> 403\u001b[1;33m         \u001b[1;32mreturn\u001b[0m \u001b[0mself\u001b[0m\u001b[1;33m.\u001b[0m\u001b[0m_parent\u001b[0m\u001b[1;33m.\u001b[0m\u001b[0mexecute\u001b[0m\u001b[1;33m(\u001b[0m\u001b[0mcommand\u001b[0m\u001b[1;33m,\u001b[0m \u001b[0mparams\u001b[0m\u001b[1;33m)\u001b[0m\u001b[1;33m\u001b[0m\u001b[1;33m\u001b[0m\u001b[0m\n\u001b[0m\u001b[0;32m    404\u001b[0m \u001b[1;33m\u001b[0m\u001b[0m\n\u001b[0;32m    405\u001b[0m     \u001b[1;32mdef\u001b[0m \u001b[0mfind_element\u001b[0m\u001b[1;33m(\u001b[0m\u001b[0mself\u001b[0m\u001b[1;33m,\u001b[0m \u001b[0mby\u001b[0m\u001b[1;33m=\u001b[0m\u001b[0mBy\u001b[0m\u001b[1;33m.\u001b[0m\u001b[0mID\u001b[0m\u001b[1;33m,\u001b[0m \u001b[0mvalue\u001b[0m\u001b[1;33m=\u001b[0m\u001b[1;32mNone\u001b[0m\u001b[1;33m)\u001b[0m \u001b[1;33m->\u001b[0m \u001b[0mWebElement\u001b[0m\u001b[1;33m:\u001b[0m\u001b[1;33m\u001b[0m\u001b[1;33m\u001b[0m\u001b[0m\n",
      "\u001b[1;32m~\\AppData\\Roaming\\Python\\Python39\\site-packages\\selenium\\webdriver\\remote\\webdriver.py\u001b[0m in \u001b[0;36mexecute\u001b[1;34m(self, driver_command, params)\u001b[0m\n\u001b[0;32m    438\u001b[0m         \u001b[0mresponse\u001b[0m \u001b[1;33m=\u001b[0m \u001b[0mself\u001b[0m\u001b[1;33m.\u001b[0m\u001b[0mcommand_executor\u001b[0m\u001b[1;33m.\u001b[0m\u001b[0mexecute\u001b[0m\u001b[1;33m(\u001b[0m\u001b[0mdriver_command\u001b[0m\u001b[1;33m,\u001b[0m \u001b[0mparams\u001b[0m\u001b[1;33m)\u001b[0m\u001b[1;33m\u001b[0m\u001b[1;33m\u001b[0m\u001b[0m\n\u001b[0;32m    439\u001b[0m         \u001b[1;32mif\u001b[0m \u001b[0mresponse\u001b[0m\u001b[1;33m:\u001b[0m\u001b[1;33m\u001b[0m\u001b[1;33m\u001b[0m\u001b[0m\n\u001b[1;32m--> 440\u001b[1;33m             \u001b[0mself\u001b[0m\u001b[1;33m.\u001b[0m\u001b[0merror_handler\u001b[0m\u001b[1;33m.\u001b[0m\u001b[0mcheck_response\u001b[0m\u001b[1;33m(\u001b[0m\u001b[0mresponse\u001b[0m\u001b[1;33m)\u001b[0m\u001b[1;33m\u001b[0m\u001b[1;33m\u001b[0m\u001b[0m\n\u001b[0m\u001b[0;32m    441\u001b[0m             \u001b[0mresponse\u001b[0m\u001b[1;33m[\u001b[0m\u001b[1;34m\"value\"\u001b[0m\u001b[1;33m]\u001b[0m \u001b[1;33m=\u001b[0m \u001b[0mself\u001b[0m\u001b[1;33m.\u001b[0m\u001b[0m_unwrap_value\u001b[0m\u001b[1;33m(\u001b[0m\u001b[0mresponse\u001b[0m\u001b[1;33m.\u001b[0m\u001b[0mget\u001b[0m\u001b[1;33m(\u001b[0m\u001b[1;34m\"value\"\u001b[0m\u001b[1;33m,\u001b[0m \u001b[1;32mNone\u001b[0m\u001b[1;33m)\u001b[0m\u001b[1;33m)\u001b[0m\u001b[1;33m\u001b[0m\u001b[1;33m\u001b[0m\u001b[0m\n\u001b[0;32m    442\u001b[0m             \u001b[1;32mreturn\u001b[0m \u001b[0mresponse\u001b[0m\u001b[1;33m\u001b[0m\u001b[1;33m\u001b[0m\u001b[0m\n",
      "\u001b[1;32m~\\AppData\\Roaming\\Python\\Python39\\site-packages\\selenium\\webdriver\\remote\\errorhandler.py\u001b[0m in \u001b[0;36mcheck_response\u001b[1;34m(self, response)\u001b[0m\n\u001b[0;32m    243\u001b[0m                 \u001b[0malert_text\u001b[0m \u001b[1;33m=\u001b[0m \u001b[0mvalue\u001b[0m\u001b[1;33m[\u001b[0m\u001b[1;34m\"alert\"\u001b[0m\u001b[1;33m]\u001b[0m\u001b[1;33m.\u001b[0m\u001b[0mget\u001b[0m\u001b[1;33m(\u001b[0m\u001b[1;34m\"text\"\u001b[0m\u001b[1;33m)\u001b[0m\u001b[1;33m\u001b[0m\u001b[1;33m\u001b[0m\u001b[0m\n\u001b[0;32m    244\u001b[0m             \u001b[1;32mraise\u001b[0m \u001b[0mexception_class\u001b[0m\u001b[1;33m(\u001b[0m\u001b[0mmessage\u001b[0m\u001b[1;33m,\u001b[0m \u001b[0mscreen\u001b[0m\u001b[1;33m,\u001b[0m \u001b[0mstacktrace\u001b[0m\u001b[1;33m,\u001b[0m \u001b[0malert_text\u001b[0m\u001b[1;33m)\u001b[0m  \u001b[1;31m# type: ignore[call-arg]  # mypy is not smart enough here\u001b[0m\u001b[1;33m\u001b[0m\u001b[1;33m\u001b[0m\u001b[0m\n\u001b[1;32m--> 245\u001b[1;33m         \u001b[1;32mraise\u001b[0m \u001b[0mexception_class\u001b[0m\u001b[1;33m(\u001b[0m\u001b[0mmessage\u001b[0m\u001b[1;33m,\u001b[0m \u001b[0mscreen\u001b[0m\u001b[1;33m,\u001b[0m \u001b[0mstacktrace\u001b[0m\u001b[1;33m)\u001b[0m\u001b[1;33m\u001b[0m\u001b[1;33m\u001b[0m\u001b[0m\n\u001b[0m",
      "\u001b[1;31mStaleElementReferenceException\u001b[0m: Message: stale element reference: element is not attached to the page document\n  (Session info: chrome=111.0.5563.111)\nStacktrace:\nBacktrace:\n\t(No symbol) [0x00C0DCE3]\n\t(No symbol) [0x00BA39D1]\n\t(No symbol) [0x00AB4DA8]\n\t(No symbol) [0x00AB76FB]\n\t(No symbol) [0x00AB75D0]\n\t(No symbol) [0x00AB7850]\n\t(No symbol) [0x00AE16CD]\n\t(No symbol) [0x00AD8B4D]\n\t(No symbol) [0x00AFAECC]\n\t(No symbol) [0x00AD8726]\n\t(No symbol) [0x00AFB224]\n\t(No symbol) [0x00B0D57C]\n\t(No symbol) [0x00AFACC6]\n\t(No symbol) [0x00AD6F68]\n\t(No symbol) [0x00AD80CD]\n\tGetHandleVerifier [0x00E83832+2506274]\n\tGetHandleVerifier [0x00EB9794+2727300]\n\tGetHandleVerifier [0x00EBE36C+2746716]\n\tGetHandleVerifier [0x00CB6690+617600]\n\t(No symbol) [0x00BAC712]\n\t(No symbol) [0x00BB1FF8]\n\t(No symbol) [0x00BB20DB]\n\t(No symbol) [0x00BBC63B]\n\tBaseThreadInitThunk [0x750600C9+25]\n\tRtlGetAppContainerNamedObjectPath [0x76FE7B4E+286]\n\tRtlGetAppContainerNamedObjectPath [0x76FE7B1E+238]\n"
     ]
    }
   ],
   "source": [
    "\n",
    "\n",
    "\n"
   ]
  },
  {
   "cell_type": "code",
   "execution_count": null,
   "id": "fb93c7c6",
   "metadata": {},
   "outputs": [],
   "source": []
  },
  {
   "cell_type": "code",
   "execution_count": null,
   "id": "10ad2b01",
   "metadata": {},
   "outputs": [],
   "source": []
  },
  {
   "cell_type": "code",
   "execution_count": null,
   "id": "8ae8822e",
   "metadata": {},
   "outputs": [],
   "source": []
  },
  {
   "cell_type": "code",
   "execution_count": null,
   "id": "5b774e50",
   "metadata": {},
   "outputs": [],
   "source": []
  },
  {
   "cell_type": "code",
   "execution_count": 24,
   "id": "87d42ff0",
   "metadata": {},
   "outputs": [],
   "source": [
    "'''\n",
    "prop_types = ['detached-houses', 'semi-detached-houses', 'terraced-houses', 'end-of-terrace-houses', 'townhouses',\n",
    "              'apartments', 'studio-apartments', 'duplexes', 'bungalows', 'sites']\n",
    "\n",
    "market_share = {}\n",
    "\n",
    "for prop_type in prop_types[:1]:\n",
    "    # Call url through selenium driver\n",
    "    driver.get(f\"https://www.daft.ie/property-for-sale/dublin-city/{prop_type}\")\n",
    "    time.sleep(2)\n",
    "    \n",
    "    \n",
    "    time.sleep(5)\n",
    "'''"
   ]
  },
  {
   "cell_type": "code",
   "execution_count": 16,
   "id": "c437472c",
   "metadata": {},
   "outputs": [],
   "source": [
    "\n"
   ]
  },
  {
   "cell_type": "code",
   "execution_count": 22,
   "id": "4956c222",
   "metadata": {},
   "outputs": [
    {
     "name": "stdout",
     "output_type": "stream",
     "text": [
      "['Any Property', 'House', 'Detached House', 'Semi-Detached House', 'Terraced House', 'End of Terrace House', 'Townhouse', 'Apartment', 'Studio Apartment', 'Duplex', 'Bungalow', 'Site', 'Any Facilities', 'Alarm', 'Gas Fired Central Heating', 'Oil Fired Central Heating', 'Parking', 'Wheelchair Access', 'Wired for Cable TV', 'Any Media', 'Ads with video', 'Ads with virtual tours']\n"
     ]
    }
   ],
   "source": [
    "\n",
    "\n",
    "'''\n",
    "filters_button = driver.find_element(By.XPATH,'//*[@aria-label=\"Filters\"]')\n",
    "filters_button.click()\n",
    "time.sleep(2)\n",
    "\n",
    "type_list = driver.find_element(By.XPATH, '//*[@aria-labelledby=\"multi-list-propertyType-label\"]')\n",
    "types = type_list.find_elements(By.XPATH, '//*[@role=\"option\"]')\n",
    "\n",
    "prop_types = []\n",
    "for type_ in types:\n",
    "    prop_types.append(type_.text)\n",
    "print(prop_types)\n",
    "'''"
   ]
  },
  {
   "cell_type": "code",
   "execution_count": null,
   "id": "906b514c",
   "metadata": {},
   "outputs": [],
   "source": []
  },
  {
   "cell_type": "code",
   "execution_count": null,
   "id": "0e578459",
   "metadata": {},
   "outputs": [],
   "source": []
  },
  {
   "cell_type": "code",
   "execution_count": 10,
   "id": "258f2847",
   "metadata": {},
   "outputs": [
    {
     "name": "stdout",
     "output_type": "stream",
     "text": [
      "['€965,000', '€385,000', '€340,000', '€550,000', '€310,000', '€645,000', '€975,000', '€1,700,000', '€2,600,000', '€1,950,000', 'A1 Rated Architecturally Designed Homes', 'From €695,000', '3 & 4 bedroom homes for sale', 'Stunning New Dublin 4 House', 'A New Adventure Begins', 'From €415,000', 'From €365,000', '€825,000', '€375,000', '€345,000']\n"
     ]
    }
   ],
   "source": [
    "\n",
    "properities = driver.find_elements(By.CSS_SELECTOR, \".djuMQD\")\n"
   ]
  },
  {
   "cell_type": "code",
   "execution_count": null,
   "id": "04fccc70",
   "metadata": {},
   "outputs": [],
   "source": [
    "'''\n",
    "prices = []\n",
    "agents = []\n",
    "prop_types = []\n",
    "\n",
    "\n",
    "\n",
    "for prop in properities:\n",
    "    prices.append(prop.find_element(By.TAG_NAME, \"h3\").text)\n",
    "\n",
    "print(prices)\n",
    "'''"
   ]
  },
  {
   "cell_type": "code",
   "execution_count": null,
   "id": "d8e993c4",
   "metadata": {},
   "outputs": [],
   "source": []
  },
  {
   "cell_type": "code",
   "execution_count": null,
   "id": "06e210df",
   "metadata": {},
   "outputs": [],
   "source": []
  },
  {
   "cell_type": "code",
   "execution_count": null,
   "id": "ff4ae4f3",
   "metadata": {},
   "outputs": [],
   "source": []
  },
  {
   "cell_type": "code",
   "execution_count": null,
   "id": "142c0a49",
   "metadata": {},
   "outputs": [],
   "source": []
  }
 ],
 "metadata": {
  "kernelspec": {
   "display_name": "Python 3 (ipykernel)",
   "language": "python",
   "name": "python3"
  },
  "language_info": {
   "codemirror_mode": {
    "name": "ipython",
    "version": 3
   },
   "file_extension": ".py",
   "mimetype": "text/x-python",
   "name": "python",
   "nbconvert_exporter": "python",
   "pygments_lexer": "ipython3",
   "version": "3.9.13"
  }
 },
 "nbformat": 4,
 "nbformat_minor": 5
}
